{
  "nbformat": 4,
  "nbformat_minor": 0,
  "metadata": {
    "colab": {
      "name": "numpy_dataframe.ipynb",
      "provenance": [],
      "private_outputs": true,
      "include_colab_link": true
    },
    "kernelspec": {
      "name": "python3",
      "display_name": "Python 3"
    }
  },
  "cells": [
    {
      "cell_type": "markdown",
      "metadata": {
        "id": "view-in-github",
        "colab_type": "text"
      },
      "source": [
        "<a href=\"https://colab.research.google.com/github/jazz777/code_lesson/blob/master/numpy_dataframe.ipynb\" target=\"_parent\"><img src=\"https://colab.research.google.com/assets/colab-badge.svg\" alt=\"Open In Colab\"/></a>"
      ]
    },
    {
      "cell_type": "code",
      "metadata": {
        "id": "sORUsc7ltEHF",
        "colab_type": "code",
        "colab": {}
      },
      "source": [
        "import pandas as pd\n",
        "a=pd.Series([1,2,3,4,5,6,7,8,9])\n",
        "a"
      ],
      "execution_count": 0,
      "outputs": []
    },
    {
      "cell_type": "code",
      "metadata": {
        "id": "nhyOoATBuJHl",
        "colab_type": "code",
        "colab": {}
      },
      "source": [
        "a[0]"
      ],
      "execution_count": 0,
      "outputs": []
    },
    {
      "cell_type": "code",
      "metadata": {
        "id": "b3wDwfq_uYsr",
        "colab_type": "code",
        "colab": {}
      },
      "source": [
        "a[0:8]"
      ],
      "execution_count": 0,
      "outputs": []
    },
    {
      "cell_type": "code",
      "metadata": {
        "id": "8vWomLodu-HU",
        "colab_type": "code",
        "colab": {}
      },
      "source": [
        "a.sum()\n",
        "a.mean()"
      ],
      "execution_count": 0,
      "outputs": []
    },
    {
      "cell_type": "code",
      "metadata": {
        "id": "FCOG58dtvgGY",
        "colab_type": "code",
        "colab": {}
      },
      "source": [
        "#不思議なこと、なんで、列単位で初期化すんの？\n",
        "#どう考えても、行単位でしょう？と思うのだが\n",
        "#  Name Country sex age favorite\n",
        "# 0   Ann      US   F  19      ice こういう単位が普通じゃね？\n",
        "#　\n",
        "col1=np.array(['Ann','Bob','Cacy'])\n",
        "col2=np.array(['US','EN','US'])\n",
        "col3=np.array(['F','M','F'])\n",
        "col4=np.array(['19','32','11'])\n",
        "col5=np.array(['ice','choco','mcd'])\n",
        "df=pd.DataFrame({'Name':col1,'Country':col2,'sex':col3,'age':col4,'favorite':col5})\n",
        "print(df)\n"
      ],
      "execution_count": 0,
      "outputs": []
    },
    {
      "cell_type": "code",
      "metadata": {
        "id": "RnMb2fM4yiwi",
        "colab_type": "code",
        "colab": {}
      },
      "source": [
        "print(df['Name'])"
      ],
      "execution_count": 0,
      "outputs": []
    },
    {
      "cell_type": "code",
      "metadata": {
        "id": "46jVwz_cyiuS",
        "colab_type": "code",
        "colab": {}
      },
      "source": [
        "print(df.iloc[1]) #横にならんのか？"
      ],
      "execution_count": 0,
      "outputs": []
    },
    {
      "cell_type": "code",
      "metadata": {
        "id": "vM3iZ9ZCz8vl",
        "colab_type": "code",
        "colab": {}
      },
      "source": [
        "df.describe()"
      ],
      "execution_count": 0,
      "outputs": []
    },
    {
      "cell_type": "code",
      "metadata": {
        "id": "VlDbJjaMvMgn",
        "colab_type": "code",
        "colab": {}
      },
      "source": [
        "a+10"
      ],
      "execution_count": 0,
      "outputs": []
    },
    {
      "cell_type": "code",
      "metadata": {
        "id": "gb6ObwGEuZFY",
        "colab_type": "code",
        "colab": {}
      },
      "source": [
        "df*10"
      ],
      "execution_count": 0,
      "outputs": []
    },
    {
      "cell_type": "code",
      "metadata": {
        "id": "Uo6fwpcWaha2",
        "colab_type": "code",
        "colab": {}
      },
      "source": [
        "#ライブラリのインポート\n",
        "\n",
        "from matplotlib import pyplot as plt\n",
        "import seaborn as sns\n",
        "from sklearn.datasets import load_iris\n",
        "import pandas as pd\n",
        "%matplotlib inline\n",
        "plt.style.use('ggplot')"
      ],
      "execution_count": 0,
      "outputs": []
    },
    {
      "cell_type": "code",
      "metadata": {
        "id": "nQR1fnxsyir9",
        "colab_type": "code",
        "colab": {}
      },
      "source": [
        "#csvの作成\n",
        "str=\"\"\"\n",
        "name,sex,job,country,sallary\n",
        "1,2,3,4,5\n",
        "6,7,8,9,10\n",
        "11,12,13,14,15\n",
        "16,17,18,19,20\n",
        "\"\"\"\n"
      ],
      "execution_count": 0,
      "outputs": []
    },
    {
      "cell_type": "code",
      "metadata": {
        "id": "XHstqp-wKMGM",
        "colab_type": "code",
        "colab": {}
      },
      "source": [
        "#csvファイルの作成\n",
        "\n",
        "with open('hoge','w') as f:\n",
        "  f.write(str) "
      ],
      "execution_count": 0,
      "outputs": []
    },
    {
      "cell_type": "code",
      "metadata": {
        "id": "-QyxOvRUK6PG",
        "colab_type": "code",
        "colab": {}
      },
      "source": [
        "#dataframe の作成\n",
        "\n",
        "import pandas as pd\n",
        "df=pd.read_csv('hoge')\n",
        "print(df)"
      ],
      "execution_count": 0,
      "outputs": []
    },
    {
      "cell_type": "code",
      "metadata": {
        "id": "UK_5UG_KMNkE",
        "colab_type": "code",
        "colab": {}
      },
      "source": [
        "df.describe()"
      ],
      "execution_count": 0,
      "outputs": []
    },
    {
      "cell_type": "code",
      "metadata": {
        "id": "pa7Tr3NTZJ4N",
        "colab_type": "code",
        "colab": {}
      },
      "source": [
        "#グラフ化（ヒストグラム）\n",
        "\n",
        "#タイトル、ラベルの作成\n",
        "plt.xlabel('a')\n",
        "plt.ylabel('')\n",
        "plt.title('country')\n",
        "\n",
        "#グラフ化\n",
        "plt.hist(df['country'])\n",
        "plt.show()"
      ],
      "execution_count": 0,
      "outputs": []
    },
    {
      "cell_type": "code",
      "metadata": {
        "id": "jze3C6awYzeB",
        "colab_type": "code",
        "colab": {}
      },
      "source": [
        "df['sex']"
      ],
      "execution_count": 0,
      "outputs": []
    },
    {
      "cell_type": "markdown",
      "metadata": {
        "id": "QbOAUcBdt5t7",
        "colab_type": "text"
      },
      "source": [
        "上はpandos\n",
        "\n",
        "下はnumpy"
      ]
    },
    {
      "cell_type": "code",
      "metadata": {
        "id": "MTFhWAGato6a",
        "colab_type": "code",
        "colab": {}
      },
      "source": [
        "import numpy as np\n",
        "b=np.array([1,2,3,4,5,6,7,8,9])\n",
        "b"
      ],
      "execution_count": 0,
      "outputs": []
    },
    {
      "cell_type": "code",
      "metadata": {
        "id": "inW9reCMuO47",
        "colab_type": "code",
        "colab": {}
      },
      "source": [
        "b[0]"
      ],
      "execution_count": 0,
      "outputs": []
    }
  ]
}