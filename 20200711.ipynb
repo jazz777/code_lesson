{
  "nbformat": 4,
  "nbformat_minor": 0,
  "metadata": {
    "colab": {
      "name": "20200711.ipynb",
      "provenance": [],
      "private_outputs": true,
      "authorship_tag": "ABX9TyMOmz3N6GAUTiUEEen/EW4x",
      "include_colab_link": true
    },
    "kernelspec": {
      "name": "python3",
      "display_name": "Python 3"
    }
  },
  "cells": [
    {
      "cell_type": "markdown",
      "metadata": {
        "id": "view-in-github",
        "colab_type": "text"
      },
      "source": [
        "<a href=\"https://colab.research.google.com/github/jazz777/code_lesson/blob/master/20200711.ipynb\" target=\"_parent\"><img src=\"https://colab.research.google.com/assets/colab-badge.svg\" alt=\"Open In Colab\"/></a>"
      ]
    },
    {
      "cell_type": "code",
      "metadata": {
        "id": "YTtbnI27rp9y",
        "colab_type": "code",
        "colab": {}
      },
      "source": [
        "a=0\n",
        "while a < 100:\n",
        "  a=a+1\n",
        "  print('nozomi')"
      ],
      "execution_count": null,
      "outputs": []
    },
    {
      "cell_type": "code",
      "metadata": {
        "colab_type": "code",
        "id": "niMTCsFoFbuT",
        "colab": {}
      },
      "source": [
        "while a < 10:\n",
        "  \n",
        "  a+=1\n",
        "  print('nozomi')"
      ],
      "execution_count": null,
      "outputs": []
    },
    {
      "cell_type": "code",
      "metadata": {
        "id": "hJYCzMmzJtTo",
        "colab_type": "code",
        "colab": {}
      },
      "source": [
        "a=4\n",
        "if 4 < a < 9:\n",
        "  print('ok') "
      ],
      "execution_count": null,
      "outputs": []
    },
    {
      "cell_type": "code",
      "metadata": {
        "id": "52rRIFMEJ4B7",
        "colab_type": "code",
        "colab": {}
      },
      "source": [
        "while a < 10:\n",
        "  a+=1\n",
        "  print('nozomi')"
      ],
      "execution_count": null,
      "outputs": []
    },
    {
      "cell_type": "code",
      "metadata": {
        "id": "YxFr1zp9L2RG",
        "colab_type": "code",
        "colab": {}
      },
      "source": [
        "a=5\n",
        "while  4 < a < 9:\n",
        "  a+=1\n",
        "  print(a,a*2,'nozomi')"
      ],
      "execution_count": null,
      "outputs": []
    },
    {
      "cell_type": "markdown",
      "metadata": {
        "id": "qany7QwiMtJD",
        "colab_type": "text"
      },
      "source": [
        "a=3\n",
        "while 1 < x:\n",
        "\n",
        "\n"
      ]
    },
    {
      "cell_type": "code",
      "metadata": {
        "id": "rl2O_U5nNS8a",
        "colab_type": "code",
        "colab": {}
      },
      "source": [
        "a=10\n",
        "x=1\n",
        "while 0 < x < a:\n",
        "  x+=1\n",
        "  print(a,\"を\",x,\"で割った余りは\",a%x)\n",
        "\n",
        "\n"
      ],
      "execution_count": null,
      "outputs": []
    },
    {
      "cell_type": "markdown",
      "metadata": {
        "id": "tZXZdcU0LVh7",
        "colab_type": "text"
      },
      "source": [
        ""
      ]
    },
    {
      "cell_type": "code",
      "metadata": {
        "id": "UO9K2UOgQbZ8",
        "colab_type": "code",
        "colab": {}
      },
      "source": [
        "a = range(3)\n",
        "print(a)\n"
      ],
      "execution_count": null,
      "outputs": []
    },
    {
      "cell_type": "code",
      "metadata": {
        "id": "e2frhm20QdTV",
        "colab_type": "code",
        "colab": {}
      },
      "source": [
        "range(3)"
      ],
      "execution_count": null,
      "outputs": []
    },
    {
      "cell_type": "code",
      "metadata": {
        "id": "dZUzqtThQnE2",
        "colab_type": "code",
        "colab": {}
      },
      "source": [
        "print(range(3))"
      ],
      "execution_count": null,
      "outputs": []
    },
    {
      "cell_type": "code",
      "metadata": {
        "id": "4gR2FhTfQqNd",
        "colab_type": "code",
        "colab": {}
      },
      "source": [
        "b = range(0,10,2)\n",
        "print(b)"
      ],
      "execution_count": null,
      "outputs": []
    },
    {
      "cell_type": "code",
      "metadata": {
        "id": "LR4GXZu5QxnO",
        "colab_type": "code",
        "colab": {}
      },
      "source": [
        "list(range(5))\n"
      ],
      "execution_count": null,
      "outputs": []
    },
    {
      "cell_type": "code",
      "metadata": {
        "id": "mNuEEhaRRMFR",
        "colab_type": "code",
        "colab": {}
      },
      "source": [
        "list(range(2,10))"
      ],
      "execution_count": null,
      "outputs": []
    },
    {
      "cell_type": "code",
      "metadata": {
        "id": "u55Vd6IiRVLV",
        "colab_type": "code",
        "colab": {}
      },
      "source": [
        "a=9\n",
        "list(range(2,a))"
      ],
      "execution_count": null,
      "outputs": []
    },
    {
      "cell_type": "code",
      "metadata": {
        "id": "GthnlXPmRerc",
        "colab_type": "code",
        "colab": {}
      },
      "source": [
        "a=22229\n",
        "flg=0\n",
        "for p in list(range(2,a)):\n",
        "  if a%p == 0:\n",
        "    print(p)\n",
        "    flg+=1\n",
        "  else:\n",
        "    pass\n",
        "if flg != 0:\n",
        "  print(a,'は素数ではありません')\n",
        "else:\n",
        "  print(a,'は素数です。')"
      ],
      "execution_count": null,
      "outputs": []
    },
    {
      "cell_type": "code",
      "metadata": {
        "id": "rnjSUjtuR73V",
        "colab_type": "code",
        "colab": {}
      },
      "source": [
        ""
      ],
      "execution_count": null,
      "outputs": []
    }
  ]
}