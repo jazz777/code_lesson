{
  "nbformat": 4,
  "nbformat_minor": 0,
  "metadata": {
    "colab": {
      "name": "rangeの使い方.ipynb",
      "provenance": [],
      "private_outputs": true,
      "toc_visible": true,
      "authorship_tag": "ABX9TyMOT5ZHh+7jvjfpQAPGoIUw",
      "include_colab_link": true
    },
    "kernelspec": {
      "name": "python3",
      "display_name": "Python 3"
    }
  },
  "cells": [
    {
      "cell_type": "markdown",
      "metadata": {
        "id": "view-in-github",
        "colab_type": "text"
      },
      "source": [
        "<a href=\"https://colab.research.google.com/github/jazz777/code_lesson/blob/master/range%E3%81%AE%E4%BD%BF%E3%81%84%E6%96%B9.ipynb\" target=\"_parent\"><img src=\"https://colab.research.google.com/assets/colab-badge.svg\" alt=\"Open In Colab\"/></a>"
      ]
    },
    {
      "cell_type": "markdown",
      "metadata": {
        "id": "5a4dMBVL5HLJ",
        "colab_type": "text"
      },
      "source": [
        "#rangeの使い方\n",
        "下のプログラムをみてください。\n",
        "一見、リストのような使い方ですが、rangeはリストではないので、単体でプリントすると、中身は表示されません。\n",
        "range オブジェクトです。\n",
        "\n",
        "\n"
      ]
    },
    {
      "cell_type": "code",
      "metadata": {
        "id": "lQGEaS816vPU",
        "colab_type": "code",
        "colab": {}
      },
      "source": [
        "for f in range(10):\n",
        "  print('nozomi')"
      ],
      "execution_count": null,
      "outputs": []
    },
    {
      "cell_type": "code",
      "metadata": {
        "id": "OjRlMiKz6pT6",
        "colab_type": "code",
        "colab": {}
      },
      "source": [
        "print(range(10))\n"
      ],
      "execution_count": null,
      "outputs": []
    },
    {
      "cell_type": "code",
      "metadata": {
        "id": "Awj8XmwJ7Kmi",
        "colab_type": "code",
        "colab": {}
      },
      "source": [
        "type(range(10)) \n"
      ],
      "execution_count": null,
      "outputs": []
    },
    {
      "cell_type": "markdown",
      "metadata": {
        "id": "x38c6sFG6lCl",
        "colab_type": "text"
      },
      "source": [
        "#listに変換することも出来ます\n"
      ]
    },
    {
      "cell_type": "code",
      "metadata": {
        "id": "M_ZU9lz95tv8",
        "colab_type": "code",
        "colab": {}
      },
      "source": [
        "list(range(10))"
      ],
      "execution_count": null,
      "outputs": []
    },
    {
      "cell_type": "code",
      "metadata": {
        "id": "47wXb3D_6EpG",
        "colab_type": "code",
        "colab": {}
      },
      "source": [
        "type(list(range(10)))"
      ],
      "execution_count": null,
      "outputs": []
    },
    {
      "cell_type": "code",
      "metadata": {
        "id": "Df2Vb0Tv6R2u",
        "colab_type": "code",
        "colab": {}
      },
      "source": [
        "for f in list(range(10)) :\n",
        "  print('nozomi')"
      ],
      "execution_count": null,
      "outputs": []
    }
  ]
}