{
  "nbformat": 4,
  "nbformat_minor": 0,
  "metadata": {
    "colab": {
      "name": "簡単なプログラム.ipynb",
      "provenance": [],
      "private_outputs": true,
      "collapsed_sections": [],
      "authorship_tag": "ABX9TyPS9uN8CY10OunQpK81yIg3",
      "include_colab_link": true
    },
    "kernelspec": {
      "name": "python3",
      "display_name": "Python 3"
    }
  },
  "cells": [
    {
      "cell_type": "markdown",
      "metadata": {
        "id": "view-in-github",
        "colab_type": "text"
      },
      "source": [
        "<a href=\"https://colab.research.google.com/github/jazz777/code_lesson/blob/master/colab/%E7%B0%A1%E5%8D%98%E3%81%AA%E3%83%97%E3%83%AD%E3%82%B0%E3%83%A9%E3%83%A0.ipynb\" target=\"_parent\"><img src=\"https://colab.research.google.com/assets/colab-badge.svg\" alt=\"Open In Colab\"/></a>"
      ]
    },
    {
      "cell_type": "markdown",
      "metadata": {
        "id": "bbN7fZDawJ1L",
        "colab_type": "text"
      },
      "source": [
        "入力\n",
        "\n"
      ]
    },
    {
      "cell_type": "markdown",
      "metadata": {
        "id": "fFk6Jq42zeAL",
        "colab_type": "text"
      },
      "source": [
        "入力\n",
        "条件分岐\n",
        "出力\n",
        "の練習\n"
      ]
    },
    {
      "cell_type": "code",
      "metadata": {
        "id": "h4WT9839vvrn",
        "colab_type": "code",
        "colab": {}
      },
      "source": [
        "val=input('あなたの名前は ')\n",
        "\n",
        "if val=='nozomi' or val=='のぞみ' or val== '希':\n",
        "  print(val,'元気','今どこにいる？　メールはxxx@gmail.com 連絡くれる？',)  \n",
        "\n",
        "else:\n",
        "  print('Hello',val) #output\n",
        "\n",
        "\n"
      ],
      "execution_count": null,
      "outputs": []
    },
    {
      "cell_type": "markdown",
      "metadata": {
        "id": "zdG9YLV52OOD",
        "colab_type": "text"
      },
      "source": [
        "コメントしたのになぜ？\n",
        "colab独自仕様かも？"
      ]
    },
    {
      "cell_type": "code",
      "metadata": {
        "id": "vau-DfKNxeql",
        "colab_type": "code",
        "colab": {}
      },
      "source": [
        "'''docstring\n",
        "大雑把なプログラム\n",
        "'''"
      ],
      "execution_count": null,
      "outputs": []
    },
    {
      "cell_type": "markdown",
      "metadata": {
        "id": "-Ijdal3q5aGP",
        "colab_type": "text"
      },
      "source": [
        ""
      ]
    }
  ]
}